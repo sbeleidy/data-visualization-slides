{
 "cells": [
  {
   "cell_type": "markdown",
   "metadata": {},
   "source": [
    "# Data Visualization Project\n",
    "\n",
    "In this project, you will look at three bad visualizations then:\n",
    "\n",
    "1. Identify what makes them bad\n",
    "1. Use the same data to make a better chart\n",
    "1. Explain an interesting pattern you noticed.\n",
    "\n",
    "Some helpful questions to determine if a visualization is bad:\n",
    "\n",
    "1. What is the visualization trying to show? Ex. Comparison? Relationship? Change over time?\n",
    "2. Is this the right visualization to use?\n",
    "3. Does the visualization have the correct labels and axes limits?\n",
    "4. Is there too much being shown in one visualization? Should it be split?\n",
    "\n",
    "Some helpful questions to find patterns in a visualization:\n",
    "\n",
    "1. How do different data points compare? Are there significant differences? Are there any outliers?\n",
    "2. If comparing data/series, how do they rank? Is there a significant difference between rankings?\n",
    "3. If looking at data over time, is there any seasonality? How do the values compare to the mean and/or median? How do the values change over time? Ex. Ups and downs? Always up? Always down?"
   ]
  },
  {
   "cell_type": "code",
   "execution_count": 1,
   "metadata": {
    "collapsed": true
   },
   "outputs": [],
   "source": [
    "## Imports\n",
    "import matplotlib.pyplot as plt\n",
    "import matplotlib.mlab as mlab\n",
    "import numpy as np\n",
    "import pandas as pd\n",
    "%matplotlib inline\n",
    "%config InlineBackend.figure_format = 'retina'"
   ]
  },
  {
   "cell_type": "markdown",
   "metadata": {},
   "source": [
    "To get you started, we'll walk through 1 bad visualization.\n",
    "\n",
    "![Bad Line Chart](http://imgur.com/kB6uNZC.png)"
   ]
  },
  {
   "cell_type": "code",
   "execution_count": 2,
   "metadata": {
    "collapsed": true
   },
   "outputs": [],
   "source": [
    "# Bad line chart data & names\n",
    "badLineNames = [\"2016 Q1\", \"2016 Q2\", \"2016 Q3\", \"2016 Q4\"]\n",
    "badLineProduct1 = [240, 300, 280, 400]\n",
    "badLineProduct2 = [300, 320, 150, 160]\n",
    "badLineProduct3 = [120, 140, 180, 160]\n",
    "badLineProduct4 = [380, 400, 450, 500]"
   ]
  },
  {
   "cell_type": "markdown",
   "metadata": {},
   "source": [
    "**What makes this visualization bad?**\n",
    "\n",
    "**1. What is the visualization trying to show? Ex. Comparison? Relationship? Change over time?**\n",
    "\n",
    "This visualization trys to show data over time.\n",
    "\n",
    "**2. Is this the right visualization to use?**\n",
    "\n",
    "Yes, we should be using a line chart to show data over time.\n",
    "\n",
    "**3. Does the visualization have the correct labels and axes limits?**\n",
    "\n",
    "There are no labels or a title. We could also use some more space between the min and maximum data points and the axes limits.\n",
    "\n",
    "**4. Is there too much being shown in one visualization? Should it be split?**\n",
    "\n",
    "Yes, it's quite difficult to follow each series, it should be split.\n",
    "\n",
    "\n",
    "Since the chart type is the correct one, it seems all we need to do is add labels and split the lines into panels. Before we do that, we can probably also improve the design. We covered how to improve a `matplotlib` plot in class using different styles. Select a `style` and apply it below."
   ]
  },
  {
   "cell_type": "code",
   "execution_count": 3,
   "metadata": {
    "collapsed": true
   },
   "outputs": [],
   "source": [
    "## Apply your chosen style here\n"
   ]
  },
  {
   "cell_type": "markdown",
   "metadata": {},
   "source": [
    "Now we need to plot the data over different panels. We can use [`plt.subplots`](http://matplotlib.org/api/pyplot_api.html#matplotlib.pyplot.subplots) to create multiple panels. Since we have 4 products, we're going to need 4 panels on top of each other. `subplots` returns two variables, the figure object and an array of axes. What we can do is loop through each Axes object and create a plot for that product. The first Axes object should plot the first product, the second should plot the second product and so on.\n",
    "\n",
    "Here are the steps you should follow:\n",
    "\n",
    "1. Create 4 line charts on top of each other, each plotting one of the products\n",
    "1. Make sure all the y scales are the same. You can set the y scale using `set_ylim` on the Axes object. Consider adding some buffer between the lowest value and the start of the y axis as well as between the highest value and the end of the y axis.\n",
    "1. Remove the x labels for all panels except the bottom one\n",
    "1. Add a title to each of the plots with the product number\n",
    "1. Add a title to the figure\n",
    "1. Calculate either the mean or median of the entire data set and add a dashed line on each panel with that value"
   ]
  },
  {
   "cell_type": "code",
   "execution_count": 4,
   "metadata": {
    "collapsed": true
   },
   "outputs": [],
   "source": [
    "## Your code here\n"
   ]
  },
  {
   "cell_type": "markdown",
   "metadata": {},
   "source": [
    "Now that you've created a better plot, try to describe a pattern in the dataset. Use the following questions as a reference:\n",
    "\n",
    "1. How do different data points compare? Are there significant differences? Are there any outliers?\n",
    "2. If comparing data/series, how do they rank? Is there a significant difference between rankings?\n",
    "3. If looking at data over time, is there any seasonality? How do the values compare to the mean and/or median? How do the values change over time? Ex. Ups and downs? Always up? Always down?"
   ]
  },
  {
   "cell_type": "markdown",
   "metadata": {},
   "source": [
    "**Your Answer Here:**\n",
    "\n",
    ">Edit this portion with your answer"
   ]
  },
  {
   "cell_type": "markdown",
   "metadata": {},
   "source": [
    "Now look through the following bad visualizations and apply the above workflow to:\n",
    "\n",
    "1. Determine what makes them bad\n",
    "1. Create a better visualization\n",
    "1. Describe a pattern in the data"
   ]
  },
  {
   "cell_type": "markdown",
   "metadata": {},
   "source": [
    "## Bad Pie Chart\n",
    "\n",
    "Explain why this visualization is a bad one:\n",
    "\n",
    "![Bad Pie Chart](http://imgur.com/Wg9DOZd.png)"
   ]
  },
  {
   "cell_type": "markdown",
   "metadata": {},
   "source": [
    "**Your Answer Here:**\n",
    "\n",
    ">Edit this portion with your answer"
   ]
  },
  {
   "cell_type": "code",
   "execution_count": 5,
   "metadata": {
    "collapsed": true
   },
   "outputs": [],
   "source": [
    "badPieNames = [\"Golden\", \"Boulder\", \"Denver\", \"Colo Springs\"]\n",
    "badPieValues = [0.37, 0.4, 0.5, 0.35]"
   ]
  },
  {
   "cell_type": "code",
   "execution_count": 6,
   "metadata": {
    "collapsed": true
   },
   "outputs": [],
   "source": [
    "# Plot a better chart using this data\n"
   ]
  },
  {
   "cell_type": "markdown",
   "metadata": {},
   "source": [
    "Tell a story or describe a pattern using your new visualization."
   ]
  },
  {
   "cell_type": "markdown",
   "metadata": {},
   "source": [
    "**Your Answer Here:**\n",
    "\n",
    ">Edit this portion with your answer"
   ]
  },
  {
   "cell_type": "markdown",
   "metadata": {},
   "source": [
    "## Bad Bar Chart 1\n",
    "\n",
    "Explain why this visualization is a bad one:\n",
    "\n",
    "![Bad Bar Chart](http://imgur.com/AkLyM9I.png)"
   ]
  },
  {
   "cell_type": "markdown",
   "metadata": {},
   "source": [
    "**Your Answer Here:**\n",
    "\n",
    ">Edit this portion with your answer"
   ]
  },
  {
   "cell_type": "code",
   "execution_count": 7,
   "metadata": {
    "collapsed": true
   },
   "outputs": [],
   "source": [
    "badBarNames = [\"A\", \"B\", \"C\"]\n",
    "badBarValues = [240, 242, 250]"
   ]
  },
  {
   "cell_type": "code",
   "execution_count": 8,
   "metadata": {
    "collapsed": true
   },
   "outputs": [],
   "source": [
    "# Plot a better chart using this data"
   ]
  },
  {
   "cell_type": "markdown",
   "metadata": {},
   "source": [
    "Tell a story or describe a pattern using your new visualization."
   ]
  },
  {
   "cell_type": "markdown",
   "metadata": {},
   "source": [
    "**Your Answer Here:**\n",
    "\n",
    ">Edit this portion with your answer"
   ]
  },
  {
   "cell_type": "markdown",
   "metadata": {},
   "source": [
    "## Bad Bar Chart 2\n",
    "\n",
    "Explain why this visualization is a bad one:\n",
    "\n",
    "![Bad Bar Chart](http://imgur.com/Ns3lgyp.png)"
   ]
  },
  {
   "cell_type": "markdown",
   "metadata": {},
   "source": [
    "**Your Answer Here:**\n",
    "\n",
    ">Edit this portion with your answer"
   ]
  },
  {
   "cell_type": "code",
   "execution_count": 9,
   "metadata": {
    "collapsed": true
   },
   "outputs": [],
   "source": [
    "badBar2Names = [\"Jan\", \"Feb\", \"Mar\", \"Apr\", \"May\", \"Jun\", \"Jul\", \"Aug\", \"Sep\", \"Oct\", \"Nov\", \"Dec\"]\n",
    "badBar2Values = [240, 320, 360, 280, 290, 300, 500, 410, 390, 200, 220, 240]"
   ]
  },
  {
   "cell_type": "code",
   "execution_count": 10,
   "metadata": {
    "collapsed": true
   },
   "outputs": [],
   "source": [
    "# Plot a better chart using this data"
   ]
  },
  {
   "cell_type": "markdown",
   "metadata": {},
   "source": [
    "Tell a story or describe a pattern using your new visualization."
   ]
  },
  {
   "cell_type": "markdown",
   "metadata": {},
   "source": [
    "**Your Answer Here:**\n",
    "\n",
    ">Edit this portion with your answer"
   ]
  }
 ],
 "metadata": {
  "anaconda-cloud": {},
  "kernelspec": {
   "display_name": "Python [conda env:csci398]",
   "language": "python",
   "name": "conda-env-csci398-py"
  },
  "language_info": {
   "codemirror_mode": {
    "name": "ipython",
    "version": 3
   },
   "file_extension": ".py",
   "mimetype": "text/x-python",
   "name": "python",
   "nbconvert_exporter": "python",
   "pygments_lexer": "ipython3",
   "version": "3.5.2"
  }
 },
 "nbformat": 4,
 "nbformat_minor": 2
}
